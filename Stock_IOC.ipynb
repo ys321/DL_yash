{
  "nbformat": 4,
  "nbformat_minor": 0,
  "metadata": {
    "colab": {
      "name": "Stock IOC.ipynb",
      "provenance": []
    },
    "kernelspec": {
      "display_name": "Python 3",
      "name": "python3"
    },
    "language_info": {
      "name": "python"
    }
  },
  "cells": [
    {
      "cell_type": "code",
      "metadata": {
        "id": "-dRTVwEdThEd"
      },
      "source": [
        "# import libraries\n",
        "import numpy as np\n",
        "import matplotlib.pyplot as plt\n",
        "import pandas as pd\n",
        "import datetime"
      ],
      "execution_count": null,
      "outputs": []
    },
    {
      "cell_type": "code",
      "metadata": {
        "id": "0SBnZ7rZVa-L"
      },
      "source": [
        "dataset = pd.read_csv(r'/content/drive/MyDrive/ML/Stock Market/21-03-2019-TO-19-03-2021IOC.csv')"
      ],
      "execution_count": null,
      "outputs": []
    },
    {
      "cell_type": "code",
      "metadata": {
        "colab": {
          "base_uri": "https://localhost:8080/",
          "height": 310
        },
        "id": "VErKIXgmVvtS",
        "outputId": "46658b68-2a64-482c-a06a-229a8fe4af6b"
      },
      "source": [
        "dataset.head()"
      ],
      "execution_count": null,
      "outputs": [
        {
          "output_type": "execute_result",
          "data": {
            "text/html": [
              "<div>\n",
              "<style scoped>\n",
              "    .dataframe tbody tr th:only-of-type {\n",
              "        vertical-align: middle;\n",
              "    }\n",
              "\n",
              "    .dataframe tbody tr th {\n",
              "        vertical-align: top;\n",
              "    }\n",
              "\n",
              "    .dataframe thead th {\n",
              "        text-align: right;\n",
              "    }\n",
              "</style>\n",
              "<table border=\"1\" class=\"dataframe\">\n",
              "  <thead>\n",
              "    <tr style=\"text-align: right;\">\n",
              "      <th></th>\n",
              "      <th>Symbol</th>\n",
              "      <th>Series</th>\n",
              "      <th>Date</th>\n",
              "      <th>Prev Close</th>\n",
              "      <th>Open Price</th>\n",
              "      <th>High Price</th>\n",
              "      <th>Low Price</th>\n",
              "      <th>Last Price</th>\n",
              "      <th>Close Price</th>\n",
              "      <th>Average Price</th>\n",
              "      <th>Volume</th>\n",
              "      <th>Unnamed: 11</th>\n",
              "      <th>Unnamed: 12</th>\n",
              "      <th>Unnamed: 13</th>\n",
              "      <th>% Dly Qt to Traded Qty</th>\n",
              "    </tr>\n",
              "  </thead>\n",
              "  <tbody>\n",
              "    <tr>\n",
              "      <th>0</th>\n",
              "      <td>IOC</td>\n",
              "      <td>BL</td>\n",
              "      <td>22-Mar-19</td>\n",
              "      <td>511.15</td>\n",
              "      <td>159.0</td>\n",
              "      <td>159.00</td>\n",
              "      <td>159.0</td>\n",
              "      <td>159.00</td>\n",
              "      <td>159.00</td>\n",
              "      <td>159.00</td>\n",
              "      <td>1821855</td>\n",
              "      <td>NaN</td>\n",
              "      <td>NaN</td>\n",
              "      <td>NaN</td>\n",
              "      <td>100.00</td>\n",
              "    </tr>\n",
              "    <tr>\n",
              "      <th>1</th>\n",
              "      <td>IOC</td>\n",
              "      <td>EQ</td>\n",
              "      <td>22-Mar-19</td>\n",
              "      <td>159.00</td>\n",
              "      <td>158.8</td>\n",
              "      <td>161.25</td>\n",
              "      <td>155.1</td>\n",
              "      <td>155.25</td>\n",
              "      <td>157.05</td>\n",
              "      <td>157.71</td>\n",
              "      <td>31011781</td>\n",
              "      <td>NaN</td>\n",
              "      <td>NaN</td>\n",
              "      <td>NaN</td>\n",
              "      <td>57.44</td>\n",
              "    </tr>\n",
              "    <tr>\n",
              "      <th>2</th>\n",
              "      <td>IOC</td>\n",
              "      <td>EQ</td>\n",
              "      <td>25-Mar-19</td>\n",
              "      <td>157.05</td>\n",
              "      <td>157.0</td>\n",
              "      <td>165.90</td>\n",
              "      <td>155.0</td>\n",
              "      <td>164.15</td>\n",
              "      <td>164.35</td>\n",
              "      <td>161.21</td>\n",
              "      <td>23685632</td>\n",
              "      <td>NaN</td>\n",
              "      <td>NaN</td>\n",
              "      <td>NaN</td>\n",
              "      <td>37.61</td>\n",
              "    </tr>\n",
              "    <tr>\n",
              "      <th>3</th>\n",
              "      <td>IOC</td>\n",
              "      <td>EQ</td>\n",
              "      <td>26-Mar-19</td>\n",
              "      <td>164.35</td>\n",
              "      <td>165.1</td>\n",
              "      <td>169.75</td>\n",
              "      <td>160.5</td>\n",
              "      <td>161.95</td>\n",
              "      <td>161.80</td>\n",
              "      <td>165.08</td>\n",
              "      <td>26397138</td>\n",
              "      <td>NaN</td>\n",
              "      <td>NaN</td>\n",
              "      <td>NaN</td>\n",
              "      <td>41.26</td>\n",
              "    </tr>\n",
              "    <tr>\n",
              "      <th>4</th>\n",
              "      <td>IOC</td>\n",
              "      <td>EQ</td>\n",
              "      <td>27-Mar-19</td>\n",
              "      <td>161.80</td>\n",
              "      <td>162.0</td>\n",
              "      <td>163.70</td>\n",
              "      <td>160.4</td>\n",
              "      <td>161.15</td>\n",
              "      <td>161.45</td>\n",
              "      <td>161.81</td>\n",
              "      <td>10666251</td>\n",
              "      <td>NaN</td>\n",
              "      <td>NaN</td>\n",
              "      <td>NaN</td>\n",
              "      <td>36.10</td>\n",
              "    </tr>\n",
              "  </tbody>\n",
              "</table>\n",
              "</div>"
            ],
            "text/plain": [
              "  Symbol Series       Date  ...  Unnamed: 12  Unnamed: 13  % Dly Qt to Traded Qty\n",
              "0    IOC     BL  22-Mar-19  ...          NaN          NaN                  100.00\n",
              "1    IOC     EQ  22-Mar-19  ...          NaN          NaN                   57.44\n",
              "2    IOC     EQ  25-Mar-19  ...          NaN          NaN                   37.61\n",
              "3    IOC     EQ  26-Mar-19  ...          NaN          NaN                   41.26\n",
              "4    IOC     EQ  27-Mar-19  ...          NaN          NaN                   36.10\n",
              "\n",
              "[5 rows x 15 columns]"
            ]
          },
          "metadata": {},
          "execution_count": 3
        }
      ]
    },
    {
      "cell_type": "code",
      "metadata": {
        "colab": {
          "base_uri": "https://localhost:8080/"
        },
        "id": "UbVhizieV0qQ",
        "outputId": "2fdea06e-d24c-4503-a3de-693d8435ade9"
      },
      "source": [
        "dataset.isna().any()"
      ],
      "execution_count": null,
      "outputs": [
        {
          "output_type": "execute_result",
          "data": {
            "text/plain": [
              "Symbol                    False\n",
              "Series                    False\n",
              "Date                      False\n",
              "Prev Close                False\n",
              "Open Price                False\n",
              "High Price                False\n",
              "Low Price                 False\n",
              "Last Price                False\n",
              "Close Price               False\n",
              "Average Price             False\n",
              "Volume                    False\n",
              "Unnamed: 11                True\n",
              "Unnamed: 12                True\n",
              "Unnamed: 13                True\n",
              "% Dly Qt to Traded Qty    False\n",
              "dtype: bool"
            ]
          },
          "metadata": {},
          "execution_count": 4
        }
      ]
    },
    {
      "cell_type": "code",
      "metadata": {
        "colab": {
          "base_uri": "https://localhost:8080/"
        },
        "id": "HHvHB0I5XJOO",
        "outputId": "5b40125a-be92-4968-e5b9-acee8ca292ca"
      },
      "source": [
        "dataset.info()"
      ],
      "execution_count": null,
      "outputs": [
        {
          "output_type": "stream",
          "name": "stdout",
          "text": [
            "<class 'pandas.core.frame.DataFrame'>\n",
            "RangeIndex: 496 entries, 0 to 495\n",
            "Data columns (total 15 columns):\n",
            " #   Column                  Non-Null Count  Dtype  \n",
            "---  ------                  --------------  -----  \n",
            " 0   Symbol                  496 non-null    object \n",
            " 1   Series                  496 non-null    object \n",
            " 2   Date                    496 non-null    object \n",
            " 3   Prev Close              496 non-null    float64\n",
            " 4   Open Price              496 non-null    float64\n",
            " 5   High Price              496 non-null    float64\n",
            " 6   Low Price               496 non-null    float64\n",
            " 7   Last Price              496 non-null    float64\n",
            " 8   Close Price             496 non-null    float64\n",
            " 9   Average Price           496 non-null    float64\n",
            " 10  Volume                  496 non-null    int64  \n",
            " 11  Unnamed: 11             0 non-null      float64\n",
            " 12  Unnamed: 12             0 non-null      float64\n",
            " 13  Unnamed: 13             0 non-null      float64\n",
            " 14  % Dly Qt to Traded Qty  496 non-null    float64\n",
            "dtypes: float64(11), int64(1), object(3)\n",
            "memory usage: 58.2+ KB\n"
          ]
        }
      ]
    },
    {
      "cell_type": "code",
      "metadata": {
        "colab": {
          "base_uri": "https://localhost:8080/",
          "height": 391
        },
        "id": "HU1SqtZuXY9l",
        "outputId": "2549b873-074c-4490-93a9-b8b4c73c7065"
      },
      "source": [
        "dataset['Open Price'].plot(figsize=(16,6))"
      ],
      "execution_count": null,
      "outputs": [
        {
          "output_type": "execute_result",
          "data": {
            "text/plain": [
              "<matplotlib.axes._subplots.AxesSubplot at 0x7f0202475a10>"
            ]
          },
          "metadata": {},
          "execution_count": 6
        },
        {
          "output_type": "display_data",
          "data": {
            "image/png": "[encoded data removed]",
            "text/plain": [
              "<Figure size 1152x432 with 1 Axes>"
            ]
          },
          "metadata": {
            "needs_background": "light"
          }
        }
      ]
    },
    {
      "cell_type": "code",
      "metadata": {
        "colab": {
          "base_uri": "https://localhost:8080/",
          "height": 694
        },
        "id": "fqMwA4RVXmHx",
        "outputId": "1063f633-67f6-49c0-fe62-f4f73496856e"
      },
      "source": [
        "dataset.rolling(7).mean().head(20)"
      ],
      "execution_count": null,
      "outputs": [
        {
          "output_type": "execute_result",
          "data": {
            "text/html": [
              "<div>\n",
              "<style scoped>\n",
              "    .dataframe tbody tr th:only-of-type {\n",
              "        vertical-align: middle;\n",
              "    }\n",
              "\n",
              "    .dataframe tbody tr th {\n",
              "        vertical-align: top;\n",
              "    }\n",
              "\n",
              "    .dataframe thead th {\n",
              "        text-align: right;\n",
              "    }\n",
              "</style>\n",
              "<table border=\"1\" class=\"dataframe\">\n",
              "  <thead>\n",
              "    <tr style=\"text-align: right;\">\n",
              "      <th></th>\n",
              "      <th>Prev Close</th>\n",
              "      <th>Open Price</th>\n",
              "      <th>High Price</th>\n",
              "      <th>Low Price</th>\n",
              "      <th>Last Price</th>\n",
              "      <th>Close Price</th>\n",
              "      <th>Average Price</th>\n",
              "      <th>Volume</th>\n",
              "      <th>Unnamed: 11</th>\n",
              "      <th>Unnamed: 12</th>\n",
              "      <th>Unnamed: 13</th>\n",
              "      <th>% Dly Qt to Traded Qty</th>\n",
              "    </tr>\n",
              "  </thead>\n",
              "  <tbody>\n",
              "    <tr>\n",
              "      <th>0</th>\n",
              "      <td>NaN</td>\n",
              "      <td>NaN</td>\n",
              "      <td>NaN</td>\n",
              "      <td>NaN</td>\n",
              "      <td>NaN</td>\n",
              "      <td>NaN</td>\n",
              "      <td>NaN</td>\n",
              "      <td>NaN</td>\n",
              "      <td>NaN</td>\n",
              "      <td>NaN</td>\n",
              "      <td>NaN</td>\n",
              "      <td>NaN</td>\n",
              "    </tr>\n",
              "    <tr>\n",
              "      <th>1</th>\n",
              "      <td>NaN</td>\n",
              "      <td>NaN</td>\n",
              "      <td>NaN</td>\n",
              "      <td>NaN</td>\n",
              "      <td>NaN</td>\n",
              "      <td>NaN</td>\n",
              "      <td>NaN</td>\n",
              "      <td>NaN</td>\n",
              "      <td>NaN</td>\n",
              "      <td>NaN</td>\n",
              "      <td>NaN</td>\n",
              "      <td>NaN</td>\n",
              "    </tr>\n",
              "    <tr>\n",
              "      <th>2</th>\n",
              "      <td>NaN</td>\n",
              "      <td>NaN</td>\n",
              "      <td>NaN</td>\n",
              "      <td>NaN</td>\n",
              "      <td>NaN</td>\n",
              "      <td>NaN</td>\n",
              "      <td>NaN</td>\n",
              "      <td>NaN</td>\n",
              "      <td>NaN</td>\n",
              "      <td>NaN</td>\n",
              "      <td>NaN</td>\n",
              "      <td>NaN</td>\n",
              "    </tr>\n",
              "    <tr>\n",
              "      <th>3</th>\n",
              "      <td>NaN</td>\n",
              "      <td>NaN</td>\n",
              "      <td>NaN</td>\n",
              "      <td>NaN</td>\n",
              "      <td>NaN</td>\n",
              "      <td>NaN</td>\n",
              "      <td>NaN</td>\n",
              "      <td>NaN</td>\n",
              "      <td>NaN</td>\n",
              "      <td>NaN</td>\n",
              "      <td>NaN</td>\n",
              "      <td>NaN</td>\n",
              "    </tr>\n",
              "    <tr>\n",
              "      <th>4</th>\n",
              "      <td>NaN</td>\n",
              "      <td>NaN</td>\n",
              "      <td>NaN</td>\n",
              "      <td>NaN</td>\n",
              "      <td>NaN</td>\n",
              "      <td>NaN</td>\n",
              "      <td>NaN</td>\n",
              "      <td>NaN</td>\n",
              "      <td>NaN</td>\n",
              "      <td>NaN</td>\n",
              "      <td>NaN</td>\n",
              "      <td>NaN</td>\n",
              "    </tr>\n",
              "    <tr>\n",
              "      <th>5</th>\n",
              "      <td>NaN</td>\n",
              "      <td>NaN</td>\n",
              "      <td>NaN</td>\n",
              "      <td>NaN</td>\n",
              "      <td>NaN</td>\n",
              "      <td>NaN</td>\n",
              "      <td>NaN</td>\n",
              "      <td>NaN</td>\n",
              "      <td>NaN</td>\n",
              "      <td>NaN</td>\n",
              "      <td>NaN</td>\n",
              "      <td>NaN</td>\n",
              "    </tr>\n",
              "    <tr>\n",
              "      <th>6</th>\n",
              "      <td>210.871429</td>\n",
              "      <td>160.985714</td>\n",
              "      <td>164.114286</td>\n",
              "      <td>158.935714</td>\n",
              "      <td>160.942857</td>\n",
              "      <td>161.114286</td>\n",
              "      <td>161.405714</td>\n",
              "      <td>2.105403e+07</td>\n",
              "      <td>NaN</td>\n",
              "      <td>NaN</td>\n",
              "      <td>NaN</td>\n",
              "      <td>53.450000</td>\n",
              "    </tr>\n",
              "    <tr>\n",
              "      <th>7</th>\n",
              "      <td>161.114286</td>\n",
              "      <td>161.571429</td>\n",
              "      <td>164.800000</td>\n",
              "      <td>158.621429</td>\n",
              "      <td>160.900000</td>\n",
              "      <td>161.071429</td>\n",
              "      <td>161.361429</td>\n",
              "      <td>2.367585e+07</td>\n",
              "      <td>NaN</td>\n",
              "      <td>NaN</td>\n",
              "      <td>NaN</td>\n",
              "      <td>46.041429</td>\n",
              "    </tr>\n",
              "    <tr>\n",
              "      <th>8</th>\n",
              "      <td>161.071429</td>\n",
              "      <td>161.457143</td>\n",
              "      <td>164.607143</td>\n",
              "      <td>158.900000</td>\n",
              "      <td>161.371429</td>\n",
              "      <td>161.228571</td>\n",
              "      <td>161.484286</td>\n",
              "      <td>2.080319e+07</td>\n",
              "      <td>NaN</td>\n",
              "      <td>NaN</td>\n",
              "      <td>NaN</td>\n",
              "      <td>44.450000</td>\n",
              "    </tr>\n",
              "    <tr>\n",
              "      <th>9</th>\n",
              "      <td>161.228571</td>\n",
              "      <td>161.600000</td>\n",
              "      <td>163.714286</td>\n",
              "      <td>158.614286</td>\n",
              "      <td>159.842857</td>\n",
              "      <td>159.671429</td>\n",
              "      <td>160.647143</td>\n",
              "      <td>1.892959e+07</td>\n",
              "      <td>NaN</td>\n",
              "      <td>NaN</td>\n",
              "      <td>NaN</td>\n",
              "      <td>46.041429</td>\n",
              "    </tr>\n",
              "    <tr>\n",
              "      <th>10</th>\n",
              "      <td>159.671429</td>\n",
              "      <td>160.085714</td>\n",
              "      <td>161.764286</td>\n",
              "      <td>157.592857</td>\n",
              "      <td>158.892857</td>\n",
              "      <td>158.728571</td>\n",
              "      <td>159.168571</td>\n",
              "      <td>1.649644e+07</td>\n",
              "      <td>NaN</td>\n",
              "      <td>NaN</td>\n",
              "      <td>NaN</td>\n",
              "      <td>45.820000</td>\n",
              "    </tr>\n",
              "    <tr>\n",
              "      <th>11</th>\n",
              "      <td>158.728571</td>\n",
              "      <td>159.192857</td>\n",
              "      <td>161.092857</td>\n",
              "      <td>156.878571</td>\n",
              "      <td>158.564286</td>\n",
              "      <td>158.300000</td>\n",
              "      <td>158.578571</td>\n",
              "      <td>1.625149e+07</td>\n",
              "      <td>NaN</td>\n",
              "      <td>NaN</td>\n",
              "      <td>NaN</td>\n",
              "      <td>47.391429</td>\n",
              "    </tr>\n",
              "    <tr>\n",
              "      <th>12</th>\n",
              "      <td>158.300000</td>\n",
              "      <td>158.535714</td>\n",
              "      <td>160.135714</td>\n",
              "      <td>155.642857</td>\n",
              "      <td>157.114286</td>\n",
              "      <td>156.978571</td>\n",
              "      <td>157.462857</td>\n",
              "      <td>1.386228e+07</td>\n",
              "      <td>NaN</td>\n",
              "      <td>NaN</td>\n",
              "      <td>NaN</td>\n",
              "      <td>47.674286</td>\n",
              "    </tr>\n",
              "    <tr>\n",
              "      <th>13</th>\n",
              "      <td>156.978571</td>\n",
              "      <td>156.535714</td>\n",
              "      <td>158.835714</td>\n",
              "      <td>153.728571</td>\n",
              "      <td>156.035714</td>\n",
              "      <td>155.914286</td>\n",
              "      <td>156.085714</td>\n",
              "      <td>1.253840e+07</td>\n",
              "      <td>NaN</td>\n",
              "      <td>NaN</td>\n",
              "      <td>NaN</td>\n",
              "      <td>45.717143</td>\n",
              "    </tr>\n",
              "    <tr>\n",
              "      <th>14</th>\n",
              "      <td>155.914286</td>\n",
              "      <td>155.342857</td>\n",
              "      <td>158.057143</td>\n",
              "      <td>153.250000</td>\n",
              "      <td>155.728571</td>\n",
              "      <td>155.614286</td>\n",
              "      <td>155.712857</td>\n",
              "      <td>1.092545e+07</td>\n",
              "      <td>NaN</td>\n",
              "      <td>NaN</td>\n",
              "      <td>NaN</td>\n",
              "      <td>45.481429</td>\n",
              "    </tr>\n",
              "    <tr>\n",
              "      <th>15</th>\n",
              "      <td>155.614286</td>\n",
              "      <td>155.142857</td>\n",
              "      <td>158.328571</td>\n",
              "      <td>153.121429</td>\n",
              "      <td>155.635714</td>\n",
              "      <td>155.585714</td>\n",
              "      <td>155.752857</td>\n",
              "      <td>1.152785e+07</td>\n",
              "      <td>NaN</td>\n",
              "      <td>NaN</td>\n",
              "      <td>NaN</td>\n",
              "      <td>44.587143</td>\n",
              "    </tr>\n",
              "    <tr>\n",
              "      <th>16</th>\n",
              "      <td>155.585714</td>\n",
              "      <td>155.264286</td>\n",
              "      <td>158.335714</td>\n",
              "      <td>153.414286</td>\n",
              "      <td>155.935714</td>\n",
              "      <td>155.857143</td>\n",
              "      <td>155.920000</td>\n",
              "      <td>1.206686e+07</td>\n",
              "      <td>NaN</td>\n",
              "      <td>NaN</td>\n",
              "      <td>NaN</td>\n",
              "      <td>44.835714</td>\n",
              "    </tr>\n",
              "    <tr>\n",
              "      <th>17</th>\n",
              "      <td>155.857143</td>\n",
              "      <td>155.592857</td>\n",
              "      <td>158.607143</td>\n",
              "      <td>153.407143</td>\n",
              "      <td>155.771429</td>\n",
              "      <td>155.685714</td>\n",
              "      <td>155.910000</td>\n",
              "      <td>1.212019e+07</td>\n",
              "      <td>NaN</td>\n",
              "      <td>NaN</td>\n",
              "      <td>NaN</td>\n",
              "      <td>45.971429</td>\n",
              "    </tr>\n",
              "    <tr>\n",
              "      <th>18</th>\n",
              "      <td>155.685714</td>\n",
              "      <td>155.571429</td>\n",
              "      <td>158.535714</td>\n",
              "      <td>153.171429</td>\n",
              "      <td>155.307143</td>\n",
              "      <td>155.292857</td>\n",
              "      <td>155.685714</td>\n",
              "      <td>1.251178e+07</td>\n",
              "      <td>NaN</td>\n",
              "      <td>NaN</td>\n",
              "      <td>NaN</td>\n",
              "      <td>44.338571</td>\n",
              "    </tr>\n",
              "    <tr>\n",
              "      <th>19</th>\n",
              "      <td>155.292857</td>\n",
              "      <td>155.578571</td>\n",
              "      <td>158.542857</td>\n",
              "      <td>153.521429</td>\n",
              "      <td>155.892857</td>\n",
              "      <td>155.871429</td>\n",
              "      <td>155.940000</td>\n",
              "      <td>1.200717e+07</td>\n",
              "      <td>NaN</td>\n",
              "      <td>NaN</td>\n",
              "      <td>NaN</td>\n",
              "      <td>42.361429</td>\n",
              "    </tr>\n",
              "  </tbody>\n",
              "</table>\n",
              "</div>"
            ],
            "text/plain": [
              "    Prev Close  Open Price  ...  Unnamed: 13  % Dly Qt to Traded Qty\n",
              "0          NaN         NaN  ...          NaN                     NaN\n",
              "1          NaN         NaN  ...          NaN                     NaN\n",
              "2          NaN         NaN  ...          NaN                     NaN\n",
              "3          NaN         NaN  ...          NaN                     NaN\n",
              "4          NaN         NaN  ...          NaN                     NaN\n",
              "5          NaN         NaN  ...          NaN                     NaN\n",
              "6   210.871429  160.985714  ...          NaN               53.450000\n",
              "7   161.114286  161.571429  ...          NaN               46.041429\n",
              "8   161.071429  161.457143  ...          NaN               44.450000\n",
              "9   161.228571  161.600000  ...          NaN               46.041429\n",
              "10  159.671429  160.085714  ...          NaN               45.820000\n",
              "11  158.728571  159.192857  ...          NaN               47.391429\n",
              "12  158.300000  158.535714  ...          NaN               47.674286\n",
              "13  156.978571  156.535714  ...          NaN               45.717143\n",
              "14  155.914286  155.342857  ...          NaN               45.481429\n",
              "15  155.614286  155.142857  ...          NaN               44.587143\n",
              "16  155.585714  155.264286  ...          NaN               44.835714\n",
              "17  155.857143  155.592857  ...          NaN               45.971429\n",
              "18  155.685714  155.571429  ...          NaN               44.338571\n",
              "19  155.292857  155.578571  ...          NaN               42.361429\n",
              "\n",
              "[20 rows x 12 columns]"
            ]
          },
          "metadata": {},
          "execution_count": 7
        }
      ]
    },
    {
      "cell_type": "code",
      "metadata": {
        "colab": {
          "base_uri": "https://localhost:8080/",
          "height": 391
        },
        "id": "MQliTD0nVVdi",
        "outputId": "01868e1a-1370-4bd7-f2e3-da7176100c49"
      },
      "source": [
        "dataset['Open Price'].plot(figsize=(16,6))\n",
        "dataset.rolling(window=30).mean()['Close Price'].plot()"
      ],
      "execution_count": null,
      "outputs": [
        {
          "output_type": "execute_result",
          "data": {
            "text/plain": [
              "<matplotlib.axes._subplots.AxesSubplot at 0x7f02023dd090>"
            ]
          },
          "metadata": {},
          "execution_count": 8
        },
        {
          "output_type": "display_data",
          "data": {
            "image/png": "[encoded data removed]",
            "text/plain": [
              "<Figure size 1152x432 with 1 Axes>"
            ]
          },
          "metadata": {
            "needs_background": "light"
          }
        }
      ]
    },
    {
      "cell_type": "code",
      "metadata": {
        "colab": {
          "base_uri": "https://localhost:8080/",
          "height": 391
        },
        "id": "HSbBVgwUWOGI",
        "outputId": "f7e3a3b2-e668-4db4-fd48-472933ae992e"
      },
      "source": [
        "dataset['Close Price:30 Day Mean'] = dataset['Close Price'].rolling(window=30).mean()\n",
        "dataset[['Close Price','Close Price:30 Day Mean']].plot(figsize=(16,6))"
      ],
      "execution_count": null,
      "outputs": [
        {
          "output_type": "execute_result",
          "data": {
            "text/plain": [
              "<matplotlib.axes._subplots.AxesSubplot at 0x7f0201f13310>"
            ]
          },
          "metadata": {},
          "execution_count": 9
        },
        {
          "output_type": "display_data",
          "data": {
            "image/png": "[encoded data removed]",
            "text/plain": [
              "<Figure size 1152x432 with 1 Axes>"
            ]
          },
          "metadata": {
            "needs_background": "light"
          }
        }
      ]
    },
    {
      "cell_type": "code",
      "metadata": {
        "colab": {
          "base_uri": "https://localhost:8080/",
          "height": 391
        },
        "id": "r8ae9oeWXKlR",
        "outputId": "20d9a9d1-b053-49eb-a774-65cd0ec200b5"
      },
      "source": [
        "dataset['Close Price'].expanding(min_periods=1).mean().plot(figsize=(16,6))"
      ],
      "execution_count": null,
      "outputs": [
        {
          "output_type": "execute_result",
          "data": {
            "text/plain": [
              "<matplotlib.axes._subplots.AxesSubplot at 0x7f0201e8b950>"
            ]
          },
          "metadata": {},
          "execution_count": 10
        },
        {
          "output_type": "display_data",
          "data": {
            "image/png": "[encoded data removed]",
            "text/plain": [
              "<Figure size 1152x432 with 1 Axes>"
            ]
          },
          "metadata": {
            "needs_background": "light"
          }
        }
      ]
    },
    {
      "cell_type": "code",
      "metadata": {
        "id": "371hvpAzXnCn"
      },
      "source": [
        "training_set=dataset['Open Price']\n",
        "training_set=pd.DataFrame(training_set)"
      ],
      "execution_count": null,
      "outputs": []
    },
    {
      "cell_type": "code",
      "metadata": {
        "id": "vm-61ixtbzom"
      },
      "source": [
        "#Feature Scaling\n",
        "from sklearn.preprocessing import MinMaxScaler\n",
        "sc = MinMaxScaler(feature_range = (0,1))\n",
        "training_set_scaled = sc.fit_transform(training_set)\n"
      ],
      "execution_count": null,
      "outputs": []
    },
    {
      "cell_type": "code",
      "metadata": {
        "id": "CHeHQEvSccRq"
      },
      "source": [
        "# Creating a data structure with 60 timesteps and 1 output\n",
        "x_train = []\n",
        "y_train = []\n",
        "for i in range(60,496):\n",
        "  x_train.append(training_set_scaled[i-60:i, 0 ])\n",
        "  y_train.append(training_set_scaled[i , 0])\n",
        "x_train,y_train = np.array(x_train), np.array(y_train)\n",
        "\n",
        "#Reshaping\n",
        "x_train = np.reshape(x_train,(x_train.shape[0],x_train.shape[1],1))"
      ],
      "execution_count": null,
      "outputs": []
    },
    {
      "cell_type": "code",
      "metadata": {
        "id": "vv7nKowsdwp9"
      },
      "source": [
        " # Part 2 =Building the RNN\n",
        " # Importing the keras libraries and packages\n",
        "from keras.models import Sequential\n",
        "from keras.layers import Dense\n",
        "from keras.layers import LSTM\n",
        "from keras.layers import Dropout\n",
        "# from keras.models impfrom keras.models import Dropout"
      ],
      "execution_count": null,
      "outputs": []
    },
    {
      "cell_type": "code",
      "metadata": {
        "id": "VMGGSZMUend1"
      },
      "source": [
        "# Initialising the RNN\n",
        "regressor = Sequential()"
      ],
      "execution_count": null,
      "outputs": []
    },
    {
      "cell_type": "code",
      "metadata": {
        "id": "CkbRgpccfu6G"
      },
      "source": [
        "# Adding the first LSTM layer and some Dropout regularisation\n",
        "regressor.add(LSTM(units=50,return_sequences= True,input_shape = (x_train.shape[1],1)))\n",
        "regressor.add(Dropout(0.2))\n",
        "\n",
        "#adding Second LSTM layer and some Dropout regularisation\n",
        "regressor.add(LSTM(units= 50 , return_sequences= True))\n",
        "regressor.add(Dropout(0.2))\n",
        "\n",
        "#adding Third LSTM layer and some Dropout regularisation\n",
        "regressor.add(LSTM(units= 50 , return_sequences= True))\n",
        "regressor.add(Dropout(0.2))\n",
        "\n",
        "#adding fourth LSTM layer and some Dropout regularisation\n",
        "regressor.add(LSTM(units= 50))\n",
        "regressor.add(Dropout(0.2))\n",
        "\n",
        "# Adding the output layer\n",
        "regressor.add(Dense(units=1))\n"
      ],
      "execution_count": null,
      "outputs": []
    },
    {
      "cell_type": "code",
      "metadata": {
        "colab": {
          "base_uri": "https://localhost:8080/"
        },
        "id": "Mbz8ZiKsPK16",
        "outputId": "88d7979d-3a29-435f-9258-a2d92500b03c"
      },
      "source": [
        "#Compling the RNN\n",
        "regressor.compile(optimizer = 'adam' , loss = 'mean_squared_error')\n",
        "\n",
        "# Fitting the RNN to the the Traing set\n",
        "regressor.fit(x_train,y_train,epochs = 100 , batch_size = 32)"
      ],
      "execution_count": null,
      "outputs": [
        {
          "output_type": "stream",
          "name": "stdout",
          "text": [
            "Epoch 1/100\n",
            "14/14 [==============================] - 9s 116ms/step - loss: 0.0688\n",
            "Epoch 2/100\n",
            "14/14 [==============================] - 2s 117ms/step - loss: 0.0209\n",
            "Epoch 3/100\n",
            "14/14 [==============================] - 2s 116ms/step - loss: 0.0119\n",
            "Epoch 4/100\n",
            "14/14 [==============================] - 2s 117ms/step - loss: 0.0112\n",
            "Epoch 5/100\n",
            "14/14 [==============================] - 2s 114ms/step - loss: 0.0097\n",
            "Epoch 6/100\n",
            "14/14 [==============================] - 2s 115ms/step - loss: 0.0078\n",
            "Epoch 7/100\n",
            "14/14 [==============================] - 2s 118ms/step - loss: 0.0081\n",
            "Epoch 8/100\n",
            "14/14 [==============================] - 2s 115ms/step - loss: 0.0076\n",
            "Epoch 9/100\n",
            "14/14 [==============================] - 2s 120ms/step - loss: 0.0084\n",
            "Epoch 10/100\n",
            "14/14 [==============================] - 2s 115ms/step - loss: 0.0074\n",
            "Epoch 11/100\n",
            "14/14 [==============================] - 2s 117ms/step - loss: 0.0068\n",
            "Epoch 12/100\n",
            "14/14 [==============================] - 2s 117ms/step - loss: 0.0065\n",
            "Epoch 13/100\n",
            "14/14 [==============================] - 2s 116ms/step - loss: 0.0059\n",
            "Epoch 14/100\n",
            "14/14 [==============================] - 2s 117ms/step - loss: 0.0057\n",
            "Epoch 15/100\n",
            "14/14 [==============================] - 2s 116ms/step - loss: 0.0061\n",
            "Epoch 16/100\n",
            "14/14 [==============================] - 2s 116ms/step - loss: 0.0061\n",
            "Epoch 17/100\n",
            "14/14 [==============================] - 2s 116ms/step - loss: 0.0053\n",
            "Epoch 18/100\n",
            "14/14 [==============================] - 2s 114ms/step - loss: 0.0059\n",
            "Epoch 19/100\n",
            "14/14 [==============================] - 2s 116ms/step - loss: 0.0051\n",
            "Epoch 20/100\n",
            "14/14 [==============================] - 2s 117ms/step - loss: 0.0053\n",
            "Epoch 21/100\n",
            "14/14 [==============================] - 2s 114ms/step - loss: 0.0061\n",
            "Epoch 22/100\n",
            "14/14 [==============================] - 2s 118ms/step - loss: 0.0046\n",
            "Epoch 23/100\n",
            "14/14 [==============================] - 2s 117ms/step - loss: 0.0052\n",
            "Epoch 24/100\n",
            "14/14 [==============================] - 2s 117ms/step - loss: 0.0050\n",
            "Epoch 25/100\n",
            "14/14 [==============================] - 2s 118ms/step - loss: 0.0063\n",
            "Epoch 26/100\n",
            "14/14 [==============================] - 2s 116ms/step - loss: 0.0056\n",
            "Epoch 27/100\n",
            "14/14 [==============================] - 2s 115ms/step - loss: 0.0048\n",
            "Epoch 28/100\n",
            "14/14 [==============================] - 2s 114ms/step - loss: 0.0043\n",
            "Epoch 29/100\n",
            "14/14 [==============================] - 2s 115ms/step - loss: 0.0040\n",
            "Epoch 30/100\n",
            "14/14 [==============================] - 2s 115ms/step - loss: 0.0046\n",
            "Epoch 31/100\n",
            "14/14 [==============================] - 2s 113ms/step - loss: 0.0043\n",
            "Epoch 32/100\n",
            "14/14 [==============================] - 2s 115ms/step - loss: 0.0043\n",
            "Epoch 33/100\n",
            "14/14 [==============================] - 2s 113ms/step - loss: 0.0040\n",
            "Epoch 34/100\n",
            "14/14 [==============================] - 2s 115ms/step - loss: 0.0040\n",
            "Epoch 35/100\n",
            "14/14 [==============================] - 2s 116ms/step - loss: 0.0038\n",
            "Epoch 36/100\n",
            "14/14 [==============================] - 2s 114ms/step - loss: 0.0041\n",
            "Epoch 37/100\n",
            "14/14 [==============================] - 2s 114ms/step - loss: 0.0044\n",
            "Epoch 38/100\n",
            "14/14 [==============================] - 2s 115ms/step - loss: 0.0038\n",
            "Epoch 39/100\n",
            "14/14 [==============================] - 2s 116ms/step - loss: 0.0040\n",
            "Epoch 40/100\n",
            "14/14 [==============================] - 2s 115ms/step - loss: 0.0043\n",
            "Epoch 41/100\n",
            "14/14 [==============================] - 2s 116ms/step - loss: 0.0044\n",
            "Epoch 42/100\n",
            "14/14 [==============================] - 2s 117ms/step - loss: 0.0041\n",
            "Epoch 43/100\n",
            "14/14 [==============================] - 2s 114ms/step - loss: 0.0039\n",
            "Epoch 44/100\n",
            "14/14 [==============================] - 2s 115ms/step - loss: 0.0041\n",
            "Epoch 45/100\n",
            "14/14 [==============================] - 2s 115ms/step - loss: 0.0038\n",
            "Epoch 46/100\n",
            "14/14 [==============================] - 2s 119ms/step - loss: 0.0036\n",
            "Epoch 47/100\n",
            "14/14 [==============================] - 2s 115ms/step - loss: 0.0037\n",
            "Epoch 48/100\n",
            "14/14 [==============================] - 2s 117ms/step - loss: 0.0042\n",
            "Epoch 49/100\n",
            "14/14 [==============================] - 2s 121ms/step - loss: 0.0043\n",
            "Epoch 50/100\n",
            "14/14 [==============================] - 2s 117ms/step - loss: 0.0043\n",
            "Epoch 51/100\n",
            "14/14 [==============================] - 2s 115ms/step - loss: 0.0035\n",
            "Epoch 52/100\n",
            "14/14 [==============================] - 2s 115ms/step - loss: 0.0030\n",
            "Epoch 53/100\n",
            "14/14 [==============================] - 2s 115ms/step - loss: 0.0036\n",
            "Epoch 54/100\n",
            "14/14 [==============================] - 2s 116ms/step - loss: 0.0035\n",
            "Epoch 55/100\n",
            "14/14 [==============================] - 2s 117ms/step - loss: 0.0034\n",
            "Epoch 56/100\n",
            "14/14 [==============================] - 2s 116ms/step - loss: 0.0041\n",
            "Epoch 57/100\n",
            "14/14 [==============================] - 2s 115ms/step - loss: 0.0044\n",
            "Epoch 58/100\n",
            "14/14 [==============================] - 2s 116ms/step - loss: 0.0030\n",
            "Epoch 59/100\n",
            "14/14 [==============================] - 2s 117ms/step - loss: 0.0032\n",
            "Epoch 60/100\n",
            "14/14 [==============================] - 2s 115ms/step - loss: 0.0034\n",
            "Epoch 61/100\n",
            "14/14 [==============================] - 2s 116ms/step - loss: 0.0035\n",
            "Epoch 62/100\n",
            "14/14 [==============================] - 2s 117ms/step - loss: 0.0028\n",
            "Epoch 63/100\n",
            "14/14 [==============================] - 2s 119ms/step - loss: 0.0029\n",
            "Epoch 64/100\n",
            "14/14 [==============================] - 2s 117ms/step - loss: 0.0031\n",
            "Epoch 65/100\n",
            "14/14 [==============================] - 2s 117ms/step - loss: 0.0035\n",
            "Epoch 66/100\n",
            "14/14 [==============================] - 2s 115ms/step - loss: 0.0030\n",
            "Epoch 67/100\n",
            "14/14 [==============================] - 2s 117ms/step - loss: 0.0031\n",
            "Epoch 68/100\n",
            "14/14 [==============================] - 2s 118ms/step - loss: 0.0037\n",
            "Epoch 69/100\n",
            "14/14 [==============================] - 2s 116ms/step - loss: 0.0033\n",
            "Epoch 70/100\n",
            "14/14 [==============================] - 2s 117ms/step - loss: 0.0033\n",
            "Epoch 71/100\n",
            "14/14 [==============================] - 2s 116ms/step - loss: 0.0031\n",
            "Epoch 72/100\n",
            "14/14 [==============================] - 2s 115ms/step - loss: 0.0030\n",
            "Epoch 73/100\n",
            "14/14 [==============================] - 2s 114ms/step - loss: 0.0034\n",
            "Epoch 74/100\n",
            "14/14 [==============================] - 2s 116ms/step - loss: 0.0033\n",
            "Epoch 75/100\n",
            "14/14 [==============================] - 2s 117ms/step - loss: 0.0030\n",
            "Epoch 76/100\n",
            "14/14 [==============================] - 2s 113ms/step - loss: 0.0029\n",
            "Epoch 77/100\n",
            "14/14 [==============================] - 2s 115ms/step - loss: 0.0030\n",
            "Epoch 78/100\n",
            "14/14 [==============================] - 2s 116ms/step - loss: 0.0027\n",
            "Epoch 79/100\n",
            "14/14 [==============================] - 2s 117ms/step - loss: 0.0025\n",
            "Epoch 80/100\n",
            "14/14 [==============================] - 2s 119ms/step - loss: 0.0028\n",
            "Epoch 81/100\n",
            "14/14 [==============================] - 2s 119ms/step - loss: 0.0028\n",
            "Epoch 82/100\n",
            "14/14 [==============================] - 2s 121ms/step - loss: 0.0029\n",
            "Epoch 83/100\n",
            "14/14 [==============================] - 2s 122ms/step - loss: 0.0026\n",
            "Epoch 84/100\n",
            "14/14 [==============================] - 2s 118ms/step - loss: 0.0034\n",
            "Epoch 85/100\n",
            "14/14 [==============================] - 2s 117ms/step - loss: 0.0031\n",
            "Epoch 86/100\n",
            "14/14 [==============================] - 2s 116ms/step - loss: 0.0028\n",
            "Epoch 87/100\n",
            "14/14 [==============================] - 2s 118ms/step - loss: 0.0026\n",
            "Epoch 88/100\n",
            "14/14 [==============================] - 2s 114ms/step - loss: 0.0030\n",
            "Epoch 89/100\n",
            "14/14 [==============================] - 2s 116ms/step - loss: 0.0026\n",
            "Epoch 90/100\n",
            "14/14 [==============================] - 2s 116ms/step - loss: 0.0025\n",
            "Epoch 91/100\n",
            "14/14 [==============================] - 2s 116ms/step - loss: 0.0028\n",
            "Epoch 92/100\n",
            "14/14 [==============================] - 2s 116ms/step - loss: 0.0032\n",
            "Epoch 93/100\n",
            "14/14 [==============================] - 2s 116ms/step - loss: 0.0028\n",
            "Epoch 94/100\n",
            "14/14 [==============================] - 2s 118ms/step - loss: 0.0030\n",
            "Epoch 95/100\n",
            "14/14 [==============================] - 2s 117ms/step - loss: 0.0024\n",
            "Epoch 96/100\n",
            "14/14 [==============================] - 2s 118ms/step - loss: 0.0025\n",
            "Epoch 97/100\n",
            "14/14 [==============================] - 2s 117ms/step - loss: 0.0022\n",
            "Epoch 98/100\n",
            "14/14 [==============================] - 2s 116ms/step - loss: 0.0027\n",
            "Epoch 99/100\n",
            "14/14 [==============================] - 2s 117ms/step - loss: 0.0032\n",
            "Epoch 100/100\n",
            "14/14 [==============================] - 2s 117ms/step - loss: 0.0023\n"
          ]
        },
        {
          "output_type": "execute_result",
          "data": {
            "text/plain": [
              "<keras.callbacks.History at 0x7f0187424990>"
            ]
          },
          "metadata": {},
          "execution_count": 17
        }
      ]
    },
    {
      "cell_type": "code",
      "metadata": {
        "id": "epzNyyWFKKGM"
      },
      "source": [
        "# Part-3 Making the predictions and visulising the results\n",
        "\n",
        "dataset_test = pd.read_csv('/content/drive/MyDrive/ML/Stock Market/21-03-2019-TO-19-03-2021IOC.csv' , index_col=\"Date\" , parse_dates=True)"
      ],
      "execution_count": null,
      "outputs": []
    },
    {
      "cell_type": "code",
      "metadata": {
        "id": "nIR_46czMVTL"
      },
      "source": [
        "real_stock_price = dataset_test.iloc[: , 1:2].values"
      ],
      "execution_count": null,
      "outputs": []
    },
    {
      "cell_type": "code",
      "metadata": {
        "colab": {
          "base_uri": "https://localhost:8080/",
          "height": 342
        },
        "id": "4r_utyILMtsT",
        "outputId": "ed0d083c-e403-44ed-a0d8-ee19663f5294"
      },
      "source": [
        "dataset_test.head()"
      ],
      "execution_count": null,
      "outputs": [
        {
          "output_type": "execute_result",
          "data": {
            "text/html": [
              "<div>\n",
              "<style scoped>\n",
              "    .dataframe tbody tr th:only-of-type {\n",
              "        vertical-align: middle;\n",
              "    }\n",
              "\n",
              "    .dataframe tbody tr th {\n",
              "        vertical-align: top;\n",
              "    }\n",
              "\n",
              "    .dataframe thead th {\n",
              "        text-align: right;\n",
              "    }\n",
              "</style>\n",
              "<table border=\"1\" class=\"dataframe\">\n",
              "  <thead>\n",
              "    <tr style=\"text-align: right;\">\n",
              "      <th></th>\n",
              "      <th>Symbol</th>\n",
              "      <th>Series</th>\n",
              "      <th>Prev Close</th>\n",
              "      <th>Open Price</th>\n",
              "      <th>High Price</th>\n",
              "      <th>Low Price</th>\n",
              "      <th>Last Price</th>\n",
              "      <th>Close Price</th>\n",
              "      <th>Average Price</th>\n",
              "      <th>Volume</th>\n",
              "      <th>Unnamed: 11</th>\n",
              "      <th>Unnamed: 12</th>\n",
              "      <th>Unnamed: 13</th>\n",
              "      <th>% Dly Qt to Traded Qty</th>\n",
              "    </tr>\n",
              "    <tr>\n",
              "      <th>Date</th>\n",
              "      <th></th>\n",
              "      <th></th>\n",
              "      <th></th>\n",
              "      <th></th>\n",
              "      <th></th>\n",
              "      <th></th>\n",
              "      <th></th>\n",
              "      <th></th>\n",
              "      <th></th>\n",
              "      <th></th>\n",
              "      <th></th>\n",
              "      <th></th>\n",
              "      <th></th>\n",
              "      <th></th>\n",
              "    </tr>\n",
              "  </thead>\n",
              "  <tbody>\n",
              "    <tr>\n",
              "      <th>2019-03-22</th>\n",
              "      <td>IOC</td>\n",
              "      <td>BL</td>\n",
              "      <td>511.15</td>\n",
              "      <td>159.0</td>\n",
              "      <td>159.00</td>\n",
              "      <td>159.0</td>\n",
              "      <td>159.00</td>\n",
              "      <td>159.00</td>\n",
              "      <td>159.00</td>\n",
              "      <td>1821855</td>\n",
              "      <td>NaN</td>\n",
              "      <td>NaN</td>\n",
              "      <td>NaN</td>\n",
              "      <td>100.00</td>\n",
              "    </tr>\n",
              "    <tr>\n",
              "      <th>2019-03-22</th>\n",
              "      <td>IOC</td>\n",
              "      <td>EQ</td>\n",
              "      <td>159.00</td>\n",
              "      <td>158.8</td>\n",
              "      <td>161.25</td>\n",
              "      <td>155.1</td>\n",
              "      <td>155.25</td>\n",
              "      <td>157.05</td>\n",
              "      <td>157.71</td>\n",
              "      <td>31011781</td>\n",
              "      <td>NaN</td>\n",
              "      <td>NaN</td>\n",
              "      <td>NaN</td>\n",
              "      <td>57.44</td>\n",
              "    </tr>\n",
              "    <tr>\n",
              "      <th>2019-03-25</th>\n",
              "      <td>IOC</td>\n",
              "      <td>EQ</td>\n",
              "      <td>157.05</td>\n",
              "      <td>157.0</td>\n",
              "      <td>165.90</td>\n",
              "      <td>155.0</td>\n",
              "      <td>164.15</td>\n",
              "      <td>164.35</td>\n",
              "      <td>161.21</td>\n",
              "      <td>23685632</td>\n",
              "      <td>NaN</td>\n",
              "      <td>NaN</td>\n",
              "      <td>NaN</td>\n",
              "      <td>37.61</td>\n",
              "    </tr>\n",
              "    <tr>\n",
              "      <th>2019-03-26</th>\n",
              "      <td>IOC</td>\n",
              "      <td>EQ</td>\n",
              "      <td>164.35</td>\n",
              "      <td>165.1</td>\n",
              "      <td>169.75</td>\n",
              "      <td>160.5</td>\n",
              "      <td>161.95</td>\n",
              "      <td>161.80</td>\n",
              "      <td>165.08</td>\n",
              "      <td>26397138</td>\n",
              "      <td>NaN</td>\n",
              "      <td>NaN</td>\n",
              "      <td>NaN</td>\n",
              "      <td>41.26</td>\n",
              "    </tr>\n",
              "    <tr>\n",
              "      <th>2019-03-27</th>\n",
              "      <td>IOC</td>\n",
              "      <td>EQ</td>\n",
              "      <td>161.80</td>\n",
              "      <td>162.0</td>\n",
              "      <td>163.70</td>\n",
              "      <td>160.4</td>\n",
              "      <td>161.15</td>\n",
              "      <td>161.45</td>\n",
              "      <td>161.81</td>\n",
              "      <td>10666251</td>\n",
              "      <td>NaN</td>\n",
              "      <td>NaN</td>\n",
              "      <td>NaN</td>\n",
              "      <td>36.10</td>\n",
              "    </tr>\n",
              "  </tbody>\n",
              "</table>\n",
              "</div>"
            ],
            "text/plain": [
              "           Symbol Series  ...  Unnamed: 13  % Dly Qt to Traded Qty\n",
              "Date                      ...                                     \n",
              "2019-03-22    IOC     BL  ...          NaN                  100.00\n",
              "2019-03-22    IOC     EQ  ...          NaN                   57.44\n",
              "2019-03-25    IOC     EQ  ...          NaN                   37.61\n",
              "2019-03-26    IOC     EQ  ...          NaN                   41.26\n",
              "2019-03-27    IOC     EQ  ...          NaN                   36.10\n",
              "\n",
              "[5 rows x 14 columns]"
            ]
          },
          "metadata": {},
          "execution_count": 20
        }
      ]
    },
    {
      "cell_type": "code",
      "metadata": {
        "colab": {
          "base_uri": "https://localhost:8080/"
        },
        "id": "AtsPSFxqMygB",
        "outputId": "71359914-dea4-431f-93a1-afb09b0548c4"
      },
      "source": [
        "dataset_test.info()"
      ],
      "execution_count": null,
      "outputs": [
        {
          "output_type": "stream",
          "name": "stdout",
          "text": [
            "<class 'pandas.core.frame.DataFrame'>\n",
            "DatetimeIndex: 496 entries, 2019-03-22 to 2021-03-19\n",
            "Data columns (total 14 columns):\n",
            " #   Column                  Non-Null Count  Dtype  \n",
            "---  ------                  --------------  -----  \n",
            " 0   Symbol                  496 non-null    object \n",
            " 1   Series                  496 non-null    object \n",
            " 2   Prev Close              496 non-null    float64\n",
            " 3   Open Price              496 non-null    float64\n",
            " 4   High Price              496 non-null    float64\n",
            " 5   Low Price               496 non-null    float64\n",
            " 6   Last Price              496 non-null    float64\n",
            " 7   Close Price             496 non-null    float64\n",
            " 8   Average Price           496 non-null    float64\n",
            " 9   Volume                  496 non-null    int64  \n",
            " 10  Unnamed: 11             0 non-null      float64\n",
            " 11  Unnamed: 12             0 non-null      float64\n",
            " 12  Unnamed: 13             0 non-null      float64\n",
            " 13  % Dly Qt to Traded Qty  496 non-null    float64\n",
            "dtypes: float64(11), int64(1), object(2)\n",
            "memory usage: 58.1+ KB\n"
          ]
        }
      ]
    },
    {
      "cell_type": "code",
      "metadata": {
        "colab": {
          "base_uri": "https://localhost:8080/",
          "height": 312
        },
        "id": "swRF_3VqNKIY",
        "outputId": "baf2f79d-4348-4426-bcd0-e472608d86c6"
      },
      "source": [
        "dataset_test[\"Volume\"] = dataset_test[\"Volume\"].str.replace(',','').astype(float)"
      ],
      "execution_count": null,
      "outputs": [
        {
          "output_type": "error",
          "ename": "AttributeError",
          "evalue": "ignored",
          "traceback": [
            "\u001b[0;31m---------------------------------------------------------------------------\u001b[0m",
            "\u001b[0;31mAttributeError\u001b[0m                            Traceback (most recent call last)",
            "\u001b[0;32m<ipython-input-22-8ca861ec65bb>\u001b[0m in \u001b[0;36m<module>\u001b[0;34m()\u001b[0m\n\u001b[0;32m----> 1\u001b[0;31m \u001b[0mdataset_test\u001b[0m\u001b[0;34m[\u001b[0m\u001b[0;34m\"Volume\"\u001b[0m\u001b[0;34m]\u001b[0m \u001b[0;34m=\u001b[0m \u001b[0mdataset_test\u001b[0m\u001b[0;34m[\u001b[0m\u001b[0;34m\"Volume\"\u001b[0m\u001b[0;34m]\u001b[0m\u001b[0;34m.\u001b[0m\u001b[0mstr\u001b[0m\u001b[0;34m.\u001b[0m\u001b[0mreplace\u001b[0m\u001b[0;34m(\u001b[0m\u001b[0;34m','\u001b[0m\u001b[0;34m,\u001b[0m\u001b[0;34m''\u001b[0m\u001b[0;34m)\u001b[0m\u001b[0;34m.\u001b[0m\u001b[0mastype\u001b[0m\u001b[0;34m(\u001b[0m\u001b[0mfloat\u001b[0m\u001b[0;34m)\u001b[0m\u001b[0;34m\u001b[0m\u001b[0;34m\u001b[0m\u001b[0m\n\u001b[0m",
            "\u001b[0;32m/usr/local/lib/python3.7/dist-packages/pandas/core/generic.py\u001b[0m in \u001b[0;36m__getattr__\u001b[0;34m(self, name)\u001b[0m\n\u001b[1;32m   5135\u001b[0m             \u001b[0;32mor\u001b[0m \u001b[0mname\u001b[0m \u001b[0;32min\u001b[0m \u001b[0mself\u001b[0m\u001b[0;34m.\u001b[0m\u001b[0m_accessors\u001b[0m\u001b[0;34m\u001b[0m\u001b[0;34m\u001b[0m\u001b[0m\n\u001b[1;32m   5136\u001b[0m         ):\n\u001b[0;32m-> 5137\u001b[0;31m             \u001b[0;32mreturn\u001b[0m \u001b[0mobject\u001b[0m\u001b[0;34m.\u001b[0m\u001b[0m__getattribute__\u001b[0m\u001b[0;34m(\u001b[0m\u001b[0mself\u001b[0m\u001b[0;34m,\u001b[0m \u001b[0mname\u001b[0m\u001b[0;34m)\u001b[0m\u001b[0;34m\u001b[0m\u001b[0;34m\u001b[0m\u001b[0m\n\u001b[0m\u001b[1;32m   5138\u001b[0m         \u001b[0;32melse\u001b[0m\u001b[0;34m:\u001b[0m\u001b[0;34m\u001b[0m\u001b[0;34m\u001b[0m\u001b[0m\n\u001b[1;32m   5139\u001b[0m             \u001b[0;32mif\u001b[0m \u001b[0mself\u001b[0m\u001b[0;34m.\u001b[0m\u001b[0m_info_axis\u001b[0m\u001b[0;34m.\u001b[0m\u001b[0m_can_hold_identifiers_and_holds_name\u001b[0m\u001b[0;34m(\u001b[0m\u001b[0mname\u001b[0m\u001b[0;34m)\u001b[0m\u001b[0;34m:\u001b[0m\u001b[0;34m\u001b[0m\u001b[0;34m\u001b[0m\u001b[0m\n",
            "\u001b[0;32m/usr/local/lib/python3.7/dist-packages/pandas/core/accessor.py\u001b[0m in \u001b[0;36m__get__\u001b[0;34m(self, obj, cls)\u001b[0m\n\u001b[1;32m    185\u001b[0m             \u001b[0;31m# we're accessing the attribute of the class, i.e., Dataset.geo\u001b[0m\u001b[0;34m\u001b[0m\u001b[0;34m\u001b[0m\u001b[0;34m\u001b[0m\u001b[0m\n\u001b[1;32m    186\u001b[0m             \u001b[0;32mreturn\u001b[0m \u001b[0mself\u001b[0m\u001b[0;34m.\u001b[0m\u001b[0m_accessor\u001b[0m\u001b[0;34m\u001b[0m\u001b[0;34m\u001b[0m\u001b[0m\n\u001b[0;32m--> 187\u001b[0;31m         \u001b[0maccessor_obj\u001b[0m \u001b[0;34m=\u001b[0m \u001b[0mself\u001b[0m\u001b[0;34m.\u001b[0m\u001b[0m_accessor\u001b[0m\u001b[0;34m(\u001b[0m\u001b[0mobj\u001b[0m\u001b[0;34m)\u001b[0m\u001b[0;34m\u001b[0m\u001b[0;34m\u001b[0m\u001b[0m\n\u001b[0m\u001b[1;32m    188\u001b[0m         \u001b[0;31m# Replace the property with the accessor object. Inspired by:\u001b[0m\u001b[0;34m\u001b[0m\u001b[0;34m\u001b[0m\u001b[0;34m\u001b[0m\u001b[0m\n\u001b[1;32m    189\u001b[0m         \u001b[0;31m# https://www.pydanny.com/cached-property.html\u001b[0m\u001b[0;34m\u001b[0m\u001b[0;34m\u001b[0m\u001b[0;34m\u001b[0m\u001b[0m\n",
            "\u001b[0;32m/usr/local/lib/python3.7/dist-packages/pandas/core/strings.py\u001b[0m in \u001b[0;36m__init__\u001b[0;34m(self, data)\u001b[0m\n\u001b[1;32m   2098\u001b[0m \u001b[0;34m\u001b[0m\u001b[0m\n\u001b[1;32m   2099\u001b[0m     \u001b[0;32mdef\u001b[0m \u001b[0m__init__\u001b[0m\u001b[0;34m(\u001b[0m\u001b[0mself\u001b[0m\u001b[0;34m,\u001b[0m \u001b[0mdata\u001b[0m\u001b[0;34m)\u001b[0m\u001b[0;34m:\u001b[0m\u001b[0;34m\u001b[0m\u001b[0;34m\u001b[0m\u001b[0m\n\u001b[0;32m-> 2100\u001b[0;31m         \u001b[0mself\u001b[0m\u001b[0;34m.\u001b[0m\u001b[0m_inferred_dtype\u001b[0m \u001b[0;34m=\u001b[0m \u001b[0mself\u001b[0m\u001b[0;34m.\u001b[0m\u001b[0m_validate\u001b[0m\u001b[0;34m(\u001b[0m\u001b[0mdata\u001b[0m\u001b[0;34m)\u001b[0m\u001b[0;34m\u001b[0m\u001b[0;34m\u001b[0m\u001b[0m\n\u001b[0m\u001b[1;32m   2101\u001b[0m         \u001b[0mself\u001b[0m\u001b[0;34m.\u001b[0m\u001b[0m_is_categorical\u001b[0m \u001b[0;34m=\u001b[0m \u001b[0mis_categorical_dtype\u001b[0m\u001b[0;34m(\u001b[0m\u001b[0mdata\u001b[0m\u001b[0;34m.\u001b[0m\u001b[0mdtype\u001b[0m\u001b[0;34m)\u001b[0m\u001b[0;34m\u001b[0m\u001b[0;34m\u001b[0m\u001b[0m\n\u001b[1;32m   2102\u001b[0m         \u001b[0mself\u001b[0m\u001b[0;34m.\u001b[0m\u001b[0m_is_string\u001b[0m \u001b[0;34m=\u001b[0m \u001b[0mdata\u001b[0m\u001b[0;34m.\u001b[0m\u001b[0mdtype\u001b[0m\u001b[0;34m.\u001b[0m\u001b[0mname\u001b[0m \u001b[0;34m==\u001b[0m \u001b[0;34m\"string\"\u001b[0m\u001b[0;34m\u001b[0m\u001b[0;34m\u001b[0m\u001b[0m\n",
            "\u001b[0;32m/usr/local/lib/python3.7/dist-packages/pandas/core/strings.py\u001b[0m in \u001b[0;36m_validate\u001b[0;34m(data)\u001b[0m\n\u001b[1;32m   2155\u001b[0m \u001b[0;34m\u001b[0m\u001b[0m\n\u001b[1;32m   2156\u001b[0m         \u001b[0;32mif\u001b[0m \u001b[0minferred_dtype\u001b[0m \u001b[0;32mnot\u001b[0m \u001b[0;32min\u001b[0m \u001b[0mallowed_types\u001b[0m\u001b[0;34m:\u001b[0m\u001b[0;34m\u001b[0m\u001b[0;34m\u001b[0m\u001b[0m\n\u001b[0;32m-> 2157\u001b[0;31m             \u001b[0;32mraise\u001b[0m \u001b[0mAttributeError\u001b[0m\u001b[0;34m(\u001b[0m\u001b[0;34m\"Can only use .str accessor with string values!\"\u001b[0m\u001b[0;34m)\u001b[0m\u001b[0;34m\u001b[0m\u001b[0;34m\u001b[0m\u001b[0m\n\u001b[0m\u001b[1;32m   2158\u001b[0m         \u001b[0;32mreturn\u001b[0m \u001b[0minferred_dtype\u001b[0m\u001b[0;34m\u001b[0m\u001b[0;34m\u001b[0m\u001b[0m\n\u001b[1;32m   2159\u001b[0m \u001b[0;34m\u001b[0m\u001b[0m\n",
            "\u001b[0;31mAttributeError\u001b[0m: Can only use .str accessor with string values!"
          ]
        }
      ]
    },
    {
      "cell_type": "code",
      "metadata": {
        "id": "z81u2kvINe0g"
      },
      "source": [
        "test_set=dataset_test['Open Price']\n",
        "test_set=pd.DataFrame(test_set)"
      ],
      "execution_count": null,
      "outputs": []
    },
    {
      "cell_type": "code",
      "metadata": {
        "colab": {
          "base_uri": "https://localhost:8080/"
        },
        "id": "Fkj1ZqItPNjm",
        "outputId": "5af099d0-cf0d-4605-823b-7e8f7f9b978d"
      },
      "source": [
        "test_set.info()"
      ],
      "execution_count": null,
      "outputs": [
        {
          "output_type": "stream",
          "name": "stdout",
          "text": [
            "<class 'pandas.core.frame.DataFrame'>\n",
            "DatetimeIndex: 496 entries, 2019-03-22 to 2021-03-19\n",
            "Data columns (total 1 columns):\n",
            " #   Column      Non-Null Count  Dtype  \n",
            "---  ------      --------------  -----  \n",
            " 0   Open Price  496 non-null    float64\n",
            "dtypes: float64(1)\n",
            "memory usage: 7.8 KB\n"
          ]
        }
      ]
    },
    {
      "cell_type": "code",
      "metadata": {
        "colab": {
          "base_uri": "https://localhost:8080/"
        },
        "id": "odjz31jYPU1g",
        "outputId": "3a266692-2faa-4ab7-bc34-45f013a0b777"
      },
      "source": [
        "#Getting the predictd stock price \n",
        "dataset_total = pd.concat((dataset['Open Price'], dataset_test['Open Price']), axis=0)\n",
        "inputs = dataset_total[len(dataset_total) - len(dataset_test) - 60:].values\n",
        "inputs = inputs.reshape(-1,1)\n",
        "inputs = sc.transform(inputs)\n",
        "x_test = []\n",
        "for i in range(60,400):\n",
        "  x_test.append(inputs[i-60:i, 0 ])\n",
        "x_test = np.array(x_test)\n",
        "x_test = np.reshape(x_test,(x_test.shape[0],x_test.shape[1],1))\n",
        "predictd_stock_price=regressor.predict(x_test)\n",
        "predictd_stock_price= sc.inverse_transform(predictd_stock_price)"
      ],
      "execution_count": null,
      "outputs": [
        {
          "output_type": "stream",
          "name": "stderr",
          "text": [
            "/usr/local/lib/python3.7/dist-packages/sklearn/base.py:446: UserWarning: X does not have valid feature names, but MinMaxScaler was fitted with feature names\n",
            "  \"X does not have valid feature names, but\"\n"
          ]
        }
      ]
    },
    {
      "cell_type": "code",
      "metadata": {
        "colab": {
          "base_uri": "https://localhost:8080/"
        },
        "id": "zLnoXIF-R-MR",
        "outputId": "73bd22ae-9908-4a66-dd58-ee69ec986d3f"
      },
      "source": [
        "predictd_stock_price=pd.DataFrame(predictd_stock_price)\n",
        "predictd_stock_price.info()"
      ],
      "execution_count": null,
      "outputs": [
        {
          "output_type": "stream",
          "name": "stdout",
          "text": [
            "<class 'pandas.core.frame.DataFrame'>\n",
            "RangeIndex: 340 entries, 0 to 339\n",
            "Data columns (total 1 columns):\n",
            " #   Column  Non-Null Count  Dtype  \n",
            "---  ------  --------------  -----  \n",
            " 0   0       340 non-null    float32\n",
            "dtypes: float32(1)\n",
            "memory usage: 1.5 KB\n"
          ]
        }
      ]
    },
    {
      "cell_type": "code",
      "metadata": {
        "colab": {
          "base_uri": "https://localhost:8080/",
          "height": 633
        },
        "id": "MpInz4D2SbEV",
        "outputId": "66136e7d-b844-4749-e3a0-d4d314d0e7ed"
      },
      "source": [
        "#Visualising the result\n",
        "plt.plot(real_stock_price, color = 'red' , label = 'Real IOC Price')\n",
        "plt.plot(predictd_stock_price, color = 'blue', label = 'Predicted IOC Price')\n",
        "plt.title('IOC Stock Price Prediction')\n",
        "plt.xlabel('Time')\n",
        "plt.ylabel('IOC Stock Price')\n",
        "plt.legend()\n",
        "plt.show()"
      ],
      "execution_count": null,
      "outputs": [
        {
          "output_type": "error",
          "ename": "TypeError",
          "evalue": "ignored",
          "traceback": [
            "\u001b[0;31m---------------------------------------------------------------------------\u001b[0m",
            "\u001b[0;31mTypeError\u001b[0m                                 Traceback (most recent call last)",
            "\u001b[0;32m<ipython-input-27-773cd62444ce>\u001b[0m in \u001b[0;36m<module>\u001b[0;34m()\u001b[0m\n\u001b[1;32m      1\u001b[0m \u001b[0;31m#Visualising the result\u001b[0m\u001b[0;34m\u001b[0m\u001b[0;34m\u001b[0m\u001b[0;34m\u001b[0m\u001b[0m\n\u001b[0;32m----> 2\u001b[0;31m \u001b[0mplt\u001b[0m\u001b[0;34m.\u001b[0m\u001b[0mplot\u001b[0m\u001b[0;34m(\u001b[0m\u001b[0mreal_stock_price\u001b[0m\u001b[0;34m,\u001b[0m \u001b[0mcolor\u001b[0m \u001b[0;34m=\u001b[0m \u001b[0;34m'red'\u001b[0m \u001b[0;34m,\u001b[0m \u001b[0mlabel\u001b[0m \u001b[0;34m=\u001b[0m \u001b[0;34m'Real IOC Price'\u001b[0m\u001b[0;34m)\u001b[0m\u001b[0;34m\u001b[0m\u001b[0;34m\u001b[0m\u001b[0m\n\u001b[0m\u001b[1;32m      3\u001b[0m \u001b[0mplt\u001b[0m\u001b[0;34m.\u001b[0m\u001b[0mplot\u001b[0m\u001b[0;34m(\u001b[0m\u001b[0mpredictd_stock_price\u001b[0m\u001b[0;34m,\u001b[0m \u001b[0mcolor\u001b[0m \u001b[0;34m=\u001b[0m \u001b[0;34m'blue'\u001b[0m\u001b[0;34m,\u001b[0m \u001b[0mlabel\u001b[0m \u001b[0;34m=\u001b[0m \u001b[0;34m'Predicted IOC Price'\u001b[0m\u001b[0;34m)\u001b[0m\u001b[0;34m\u001b[0m\u001b[0;34m\u001b[0m\u001b[0m\n\u001b[1;32m      4\u001b[0m \u001b[0mplt\u001b[0m\u001b[0;34m.\u001b[0m\u001b[0mtitle\u001b[0m\u001b[0;34m(\u001b[0m\u001b[0;34m'IOC Stock Price Prediction'\u001b[0m\u001b[0;34m)\u001b[0m\u001b[0;34m\u001b[0m\u001b[0;34m\u001b[0m\u001b[0m\n\u001b[1;32m      5\u001b[0m \u001b[0mplt\u001b[0m\u001b[0;34m.\u001b[0m\u001b[0mxlabel\u001b[0m\u001b[0;34m(\u001b[0m\u001b[0;34m'Time'\u001b[0m\u001b[0;34m)\u001b[0m\u001b[0;34m\u001b[0m\u001b[0;34m\u001b[0m\u001b[0m\n",
            "\u001b[0;32m/usr/local/lib/python3.7/dist-packages/matplotlib/pyplot.py\u001b[0m in \u001b[0;36mplot\u001b[0;34m(scalex, scaley, data, *args, **kwargs)\u001b[0m\n\u001b[1;32m   2761\u001b[0m     return gca().plot(\n\u001b[1;32m   2762\u001b[0m         *args, scalex=scalex, scaley=scaley, **({\"data\": data} if data\n\u001b[0;32m-> 2763\u001b[0;31m         is not None else {}), **kwargs)\n\u001b[0m\u001b[1;32m   2764\u001b[0m \u001b[0;34m\u001b[0m\u001b[0m\n\u001b[1;32m   2765\u001b[0m \u001b[0;34m\u001b[0m\u001b[0m\n",
            "\u001b[0;32m/usr/local/lib/python3.7/dist-packages/matplotlib/axes/_axes.py\u001b[0m in \u001b[0;36mplot\u001b[0;34m(self, scalex, scaley, data, *args, **kwargs)\u001b[0m\n\u001b[1;32m   1645\u001b[0m         \"\"\"\n\u001b[1;32m   1646\u001b[0m         \u001b[0mkwargs\u001b[0m \u001b[0;34m=\u001b[0m \u001b[0mcbook\u001b[0m\u001b[0;34m.\u001b[0m\u001b[0mnormalize_kwargs\u001b[0m\u001b[0;34m(\u001b[0m\u001b[0mkwargs\u001b[0m\u001b[0;34m,\u001b[0m \u001b[0mmlines\u001b[0m\u001b[0;34m.\u001b[0m\u001b[0mLine2D\u001b[0m\u001b[0;34m)\u001b[0m\u001b[0;34m\u001b[0m\u001b[0;34m\u001b[0m\u001b[0m\n\u001b[0;32m-> 1647\u001b[0;31m         \u001b[0mlines\u001b[0m \u001b[0;34m=\u001b[0m \u001b[0;34m[\u001b[0m\u001b[0;34m*\u001b[0m\u001b[0mself\u001b[0m\u001b[0;34m.\u001b[0m\u001b[0m_get_lines\u001b[0m\u001b[0;34m(\u001b[0m\u001b[0;34m*\u001b[0m\u001b[0margs\u001b[0m\u001b[0;34m,\u001b[0m \u001b[0mdata\u001b[0m\u001b[0;34m=\u001b[0m\u001b[0mdata\u001b[0m\u001b[0;34m,\u001b[0m \u001b[0;34m**\u001b[0m\u001b[0mkwargs\u001b[0m\u001b[0;34m)\u001b[0m\u001b[0;34m]\u001b[0m\u001b[0;34m\u001b[0m\u001b[0;34m\u001b[0m\u001b[0m\n\u001b[0m\u001b[1;32m   1648\u001b[0m         \u001b[0;32mfor\u001b[0m \u001b[0mline\u001b[0m \u001b[0;32min\u001b[0m \u001b[0mlines\u001b[0m\u001b[0;34m:\u001b[0m\u001b[0;34m\u001b[0m\u001b[0;34m\u001b[0m\u001b[0m\n\u001b[1;32m   1649\u001b[0m             \u001b[0mself\u001b[0m\u001b[0;34m.\u001b[0m\u001b[0madd_line\u001b[0m\u001b[0;34m(\u001b[0m\u001b[0mline\u001b[0m\u001b[0;34m)\u001b[0m\u001b[0;34m\u001b[0m\u001b[0;34m\u001b[0m\u001b[0m\n",
            "\u001b[0;32m/usr/local/lib/python3.7/dist-packages/matplotlib/axes/_base.py\u001b[0m in \u001b[0;36m__call__\u001b[0;34m(self, *args, **kwargs)\u001b[0m\n\u001b[1;32m    214\u001b[0m                 \u001b[0mthis\u001b[0m \u001b[0;34m+=\u001b[0m \u001b[0margs\u001b[0m\u001b[0;34m[\u001b[0m\u001b[0;36m0\u001b[0m\u001b[0;34m]\u001b[0m\u001b[0;34m,\u001b[0m\u001b[0;34m\u001b[0m\u001b[0;34m\u001b[0m\u001b[0m\n\u001b[1;32m    215\u001b[0m                 \u001b[0margs\u001b[0m \u001b[0;34m=\u001b[0m \u001b[0margs\u001b[0m\u001b[0;34m[\u001b[0m\u001b[0;36m1\u001b[0m\u001b[0;34m:\u001b[0m\u001b[0;34m]\u001b[0m\u001b[0;34m\u001b[0m\u001b[0;34m\u001b[0m\u001b[0m\n\u001b[0;32m--> 216\u001b[0;31m             \u001b[0;32myield\u001b[0m \u001b[0;32mfrom\u001b[0m \u001b[0mself\u001b[0m\u001b[0;34m.\u001b[0m\u001b[0m_plot_args\u001b[0m\u001b[0;34m(\u001b[0m\u001b[0mthis\u001b[0m\u001b[0;34m,\u001b[0m \u001b[0mkwargs\u001b[0m\u001b[0;34m)\u001b[0m\u001b[0;34m\u001b[0m\u001b[0;34m\u001b[0m\u001b[0m\n\u001b[0m\u001b[1;32m    217\u001b[0m \u001b[0;34m\u001b[0m\u001b[0m\n\u001b[1;32m    218\u001b[0m     \u001b[0;32mdef\u001b[0m \u001b[0mget_next_color\u001b[0m\u001b[0;34m(\u001b[0m\u001b[0mself\u001b[0m\u001b[0;34m)\u001b[0m\u001b[0;34m:\u001b[0m\u001b[0;34m\u001b[0m\u001b[0;34m\u001b[0m\u001b[0m\n",
            "\u001b[0;32m/usr/local/lib/python3.7/dist-packages/matplotlib/axes/_base.py\u001b[0m in \u001b[0;36m_plot_args\u001b[0;34m(self, tup, kwargs)\u001b[0m\n\u001b[1;32m    337\u001b[0m             \u001b[0mself\u001b[0m\u001b[0;34m.\u001b[0m\u001b[0maxes\u001b[0m\u001b[0;34m.\u001b[0m\u001b[0mxaxis\u001b[0m\u001b[0;34m.\u001b[0m\u001b[0mupdate_units\u001b[0m\u001b[0;34m(\u001b[0m\u001b[0mx\u001b[0m\u001b[0;34m)\u001b[0m\u001b[0;34m\u001b[0m\u001b[0;34m\u001b[0m\u001b[0m\n\u001b[1;32m    338\u001b[0m         \u001b[0;32mif\u001b[0m \u001b[0mself\u001b[0m\u001b[0;34m.\u001b[0m\u001b[0maxes\u001b[0m\u001b[0;34m.\u001b[0m\u001b[0myaxis\u001b[0m \u001b[0;32mis\u001b[0m \u001b[0;32mnot\u001b[0m \u001b[0;32mNone\u001b[0m\u001b[0;34m:\u001b[0m\u001b[0;34m\u001b[0m\u001b[0;34m\u001b[0m\u001b[0m\n\u001b[0;32m--> 339\u001b[0;31m             \u001b[0mself\u001b[0m\u001b[0;34m.\u001b[0m\u001b[0maxes\u001b[0m\u001b[0;34m.\u001b[0m\u001b[0myaxis\u001b[0m\u001b[0;34m.\u001b[0m\u001b[0mupdate_units\u001b[0m\u001b[0;34m(\u001b[0m\u001b[0my\u001b[0m\u001b[0;34m)\u001b[0m\u001b[0;34m\u001b[0m\u001b[0;34m\u001b[0m\u001b[0m\n\u001b[0m\u001b[1;32m    340\u001b[0m \u001b[0;34m\u001b[0m\u001b[0m\n\u001b[1;32m    341\u001b[0m         \u001b[0;32mif\u001b[0m \u001b[0mx\u001b[0m\u001b[0;34m.\u001b[0m\u001b[0mshape\u001b[0m\u001b[0;34m[\u001b[0m\u001b[0;36m0\u001b[0m\u001b[0;34m]\u001b[0m \u001b[0;34m!=\u001b[0m \u001b[0my\u001b[0m\u001b[0;34m.\u001b[0m\u001b[0mshape\u001b[0m\u001b[0;34m[\u001b[0m\u001b[0;36m0\u001b[0m\u001b[0;34m]\u001b[0m\u001b[0;34m:\u001b[0m\u001b[0;34m\u001b[0m\u001b[0;34m\u001b[0m\u001b[0m\n",
            "\u001b[0;32m/usr/local/lib/python3.7/dist-packages/matplotlib/axis.py\u001b[0m in \u001b[0;36mupdate_units\u001b[0;34m(self, data)\u001b[0m\n\u001b[1;32m   1514\u001b[0m         \u001b[0mneednew\u001b[0m \u001b[0;34m=\u001b[0m \u001b[0mself\u001b[0m\u001b[0;34m.\u001b[0m\u001b[0mconverter\u001b[0m \u001b[0;34m!=\u001b[0m \u001b[0mconverter\u001b[0m\u001b[0;34m\u001b[0m\u001b[0;34m\u001b[0m\u001b[0m\n\u001b[1;32m   1515\u001b[0m         \u001b[0mself\u001b[0m\u001b[0;34m.\u001b[0m\u001b[0mconverter\u001b[0m \u001b[0;34m=\u001b[0m \u001b[0mconverter\u001b[0m\u001b[0;34m\u001b[0m\u001b[0;34m\u001b[0m\u001b[0m\n\u001b[0;32m-> 1516\u001b[0;31m         \u001b[0mdefault\u001b[0m \u001b[0;34m=\u001b[0m \u001b[0mself\u001b[0m\u001b[0;34m.\u001b[0m\u001b[0mconverter\u001b[0m\u001b[0;34m.\u001b[0m\u001b[0mdefault_units\u001b[0m\u001b[0;34m(\u001b[0m\u001b[0mdata\u001b[0m\u001b[0;34m,\u001b[0m \u001b[0mself\u001b[0m\u001b[0;34m)\u001b[0m\u001b[0;34m\u001b[0m\u001b[0;34m\u001b[0m\u001b[0m\n\u001b[0m\u001b[1;32m   1517\u001b[0m         \u001b[0;32mif\u001b[0m \u001b[0mdefault\u001b[0m \u001b[0;32mis\u001b[0m \u001b[0;32mnot\u001b[0m \u001b[0;32mNone\u001b[0m \u001b[0;32mand\u001b[0m \u001b[0mself\u001b[0m\u001b[0;34m.\u001b[0m\u001b[0munits\u001b[0m \u001b[0;32mis\u001b[0m \u001b[0;32mNone\u001b[0m\u001b[0;34m:\u001b[0m\u001b[0;34m\u001b[0m\u001b[0;34m\u001b[0m\u001b[0m\n\u001b[1;32m   1518\u001b[0m             \u001b[0mself\u001b[0m\u001b[0;34m.\u001b[0m\u001b[0mset_units\u001b[0m\u001b[0;34m(\u001b[0m\u001b[0mdefault\u001b[0m\u001b[0;34m)\u001b[0m\u001b[0;34m\u001b[0m\u001b[0;34m\u001b[0m\u001b[0m\n",
            "\u001b[0;32m/usr/local/lib/python3.7/dist-packages/matplotlib/category.py\u001b[0m in \u001b[0;36mdefault_units\u001b[0;34m(data, axis)\u001b[0m\n\u001b[1;32m    105\u001b[0m         \u001b[0;31m# the conversion call stack is default_units -> axis_info -> convert\u001b[0m\u001b[0;34m\u001b[0m\u001b[0;34m\u001b[0m\u001b[0;34m\u001b[0m\u001b[0m\n\u001b[1;32m    106\u001b[0m         \u001b[0;32mif\u001b[0m \u001b[0maxis\u001b[0m\u001b[0;34m.\u001b[0m\u001b[0munits\u001b[0m \u001b[0;32mis\u001b[0m \u001b[0;32mNone\u001b[0m\u001b[0;34m:\u001b[0m\u001b[0;34m\u001b[0m\u001b[0;34m\u001b[0m\u001b[0m\n\u001b[0;32m--> 107\u001b[0;31m             \u001b[0maxis\u001b[0m\u001b[0;34m.\u001b[0m\u001b[0mset_units\u001b[0m\u001b[0;34m(\u001b[0m\u001b[0mUnitData\u001b[0m\u001b[0;34m(\u001b[0m\u001b[0mdata\u001b[0m\u001b[0;34m)\u001b[0m\u001b[0;34m)\u001b[0m\u001b[0;34m\u001b[0m\u001b[0;34m\u001b[0m\u001b[0m\n\u001b[0m\u001b[1;32m    108\u001b[0m         \u001b[0;32melse\u001b[0m\u001b[0;34m:\u001b[0m\u001b[0;34m\u001b[0m\u001b[0;34m\u001b[0m\u001b[0m\n\u001b[1;32m    109\u001b[0m             \u001b[0maxis\u001b[0m\u001b[0;34m.\u001b[0m\u001b[0munits\u001b[0m\u001b[0;34m.\u001b[0m\u001b[0mupdate\u001b[0m\u001b[0;34m(\u001b[0m\u001b[0mdata\u001b[0m\u001b[0;34m)\u001b[0m\u001b[0;34m\u001b[0m\u001b[0;34m\u001b[0m\u001b[0m\n",
            "\u001b[0;32m/usr/local/lib/python3.7/dist-packages/matplotlib/category.py\u001b[0m in \u001b[0;36m__init__\u001b[0;34m(self, data)\u001b[0m\n\u001b[1;32m    173\u001b[0m         \u001b[0mself\u001b[0m\u001b[0;34m.\u001b[0m\u001b[0m_counter\u001b[0m \u001b[0;34m=\u001b[0m \u001b[0mitertools\u001b[0m\u001b[0;34m.\u001b[0m\u001b[0mcount\u001b[0m\u001b[0;34m(\u001b[0m\u001b[0;34m)\u001b[0m\u001b[0;34m\u001b[0m\u001b[0;34m\u001b[0m\u001b[0m\n\u001b[1;32m    174\u001b[0m         \u001b[0;32mif\u001b[0m \u001b[0mdata\u001b[0m \u001b[0;32mis\u001b[0m \u001b[0;32mnot\u001b[0m \u001b[0;32mNone\u001b[0m\u001b[0;34m:\u001b[0m\u001b[0;34m\u001b[0m\u001b[0;34m\u001b[0m\u001b[0m\n\u001b[0;32m--> 175\u001b[0;31m             \u001b[0mself\u001b[0m\u001b[0;34m.\u001b[0m\u001b[0mupdate\u001b[0m\u001b[0;34m(\u001b[0m\u001b[0mdata\u001b[0m\u001b[0;34m)\u001b[0m\u001b[0;34m\u001b[0m\u001b[0;34m\u001b[0m\u001b[0m\n\u001b[0m\u001b[1;32m    176\u001b[0m \u001b[0;34m\u001b[0m\u001b[0m\n\u001b[1;32m    177\u001b[0m     \u001b[0;34m@\u001b[0m\u001b[0mstaticmethod\u001b[0m\u001b[0;34m\u001b[0m\u001b[0;34m\u001b[0m\u001b[0m\n",
            "\u001b[0;32m/usr/local/lib/python3.7/dist-packages/matplotlib/category.py\u001b[0m in \u001b[0;36mupdate\u001b[0;34m(self, data)\u001b[0m\n\u001b[1;32m    208\u001b[0m         \u001b[0;31m# check if convertible to number:\u001b[0m\u001b[0;34m\u001b[0m\u001b[0;34m\u001b[0m\u001b[0;34m\u001b[0m\u001b[0m\n\u001b[1;32m    209\u001b[0m         \u001b[0mconvertible\u001b[0m \u001b[0;34m=\u001b[0m \u001b[0;32mTrue\u001b[0m\u001b[0;34m\u001b[0m\u001b[0;34m\u001b[0m\u001b[0m\n\u001b[0;32m--> 210\u001b[0;31m         \u001b[0;32mfor\u001b[0m \u001b[0mval\u001b[0m \u001b[0;32min\u001b[0m \u001b[0mOrderedDict\u001b[0m\u001b[0;34m.\u001b[0m\u001b[0mfromkeys\u001b[0m\u001b[0;34m(\u001b[0m\u001b[0mdata\u001b[0m\u001b[0;34m)\u001b[0m\u001b[0;34m:\u001b[0m\u001b[0;34m\u001b[0m\u001b[0;34m\u001b[0m\u001b[0m\n\u001b[0m\u001b[1;32m    211\u001b[0m             \u001b[0;31m# OrderedDict just iterates over unique values in data.\u001b[0m\u001b[0;34m\u001b[0m\u001b[0;34m\u001b[0m\u001b[0;34m\u001b[0m\u001b[0m\n\u001b[1;32m    212\u001b[0m             \u001b[0mcbook\u001b[0m\u001b[0;34m.\u001b[0m\u001b[0m_check_isinstance\u001b[0m\u001b[0;34m(\u001b[0m\u001b[0;34m(\u001b[0m\u001b[0mstr\u001b[0m\u001b[0;34m,\u001b[0m \u001b[0mbytes\u001b[0m\u001b[0;34m)\u001b[0m\u001b[0;34m,\u001b[0m \u001b[0mvalue\u001b[0m\u001b[0;34m=\u001b[0m\u001b[0mval\u001b[0m\u001b[0;34m)\u001b[0m\u001b[0;34m\u001b[0m\u001b[0;34m\u001b[0m\u001b[0m\n",
            "\u001b[0;31mTypeError\u001b[0m: unhashable type: 'numpy.ndarray'"
          ]
        },
        {
          "output_type": "display_data",
          "data": {
            "image/png": "[encoded data removed]",
            "text/plain": [
              "<Figure size 432x288 with 1 Axes>"
            ]
          },
          "metadata": {
            "needs_background": "light"
          }
        }
      ]
    },
    {
      "cell_type": "code",
      "metadata": {
        "id": "qxJOnHtRTLTK"
      },
      "source": [
        ""
      ],
      "execution_count": null,
      "outputs": []
    }
  ]
}